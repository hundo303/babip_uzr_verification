{
 "cells": [
  {
   "cell_type": "code",
   "execution_count": 2,
   "metadata": {
    "collapsed": true
   },
   "outputs": [],
   "source": [
    "import sqlite3"
   ]
  },
  {
   "cell_type": "code",
   "execution_count": 3,
   "outputs": [],
   "source": [
    "dbname = 'input_data/2021.db'\n",
    "conn = sqlite3.connect(dbname)\n",
    "cur = conn.cursor()"
   ],
   "metadata": {
    "collapsed": false,
    "pycharm": {
     "name": "#%%\n"
    }
   }
  },
  {
   "cell_type": "code",
   "execution_count": 7,
   "outputs": [
    {
     "data": {
      "text/plain": "[('pitch_data',),\n ('data_at_bat',),\n ('player',),\n ('game_data',),\n ('batting_stats',),\n ('pitch_stats',)]"
     },
     "execution_count": 7,
     "metadata": {},
     "output_type": "execute_result"
    }
   ],
   "source": [
    "cur.execute(\"SELECT name FROM sqlite_master WHERE TYPE='table'\")\n",
    "cur.fetchall()"
   ],
   "metadata": {
    "collapsed": false,
    "pycharm": {
     "name": "#%%\n"
    }
   }
  },
  {
   "cell_type": "code",
   "execution_count": 9,
   "outputs": [
    {
     "name": "stdout",
     "output_type": "stream",
     "text": [
      "['', '一2塁打', '一エラー', '一ゴロ', '一フライ', '一ライナー', '一併殺打', '一安打', '一犠打', '一犠打野選', '一野選', '三2塁打', '三エラー', '三ゴロ', '三フライ', '三ライナー', '三併殺打', '三安打', '三犠打', '三犠打野選', '三野選', '中2塁打', '中3塁打', '中エラー', '中ゴロ', '中フライ', '中ランニング本塁打', '中安打', '中犠飛', '二エラー', '二ゴロ', '二フライ', '二ライナー', '二併殺打', '二安打', '二犠打', '二野選', '右2塁打', '右3塁打', '右エラー', '右ゴロ', '右フライ', '右安打', '右犠飛', '左2塁打', '左3塁打', '左エラー', '左ゴロ', '左フライ', '左安打', '左犠飛', '投エラー', '投ゴロ', '投フライ', '投ライナー', '投併殺打', '投安打', '投犠打', '投犠打野選', '投野選', '捕エラー', '捕ゴロ', '捕フライ', '捕併殺打', '捕安打', '捕犠打', '捕犠打野選', '犠打失', '犠飛失', '空振り', '遊2塁打', '遊エラー', '遊ゴロ', '遊フライ', '遊ライナー', '遊併殺打', '遊安打', '遊野選']\n"
     ]
    }
   ],
   "source": [
    "cur.execute('select result_big from data_at_bat')\n",
    "result_big_list = [result[0] for result in cur.fetchall()]\n",
    "# ngワードが入っているリザルトの除去(本塁打が別れてるのはランニング本塁打があるから)\n",
    "ng_words = ['けん制', '【代打】', '【代走】', '【守備】', '【継投】', 'ボーク', 'スリーバント', '見逃し', '空振り', '敬遠', '振り逃げ',\n",
    "            'ファウル', 'ボール', '三振', '四球', '死球', '守備妨害', '打撃妨害', '左本塁打', '中本塁打', '右本塁打']\n",
    "result_big_list = [result for result in result_big_list if all([ng_word not in result for ng_word in ng_words])]\n",
    "# 打点の除去\n",
    "result_big_list = [result.replace('＋1点', '').replace('＋2点', '').replace('＋3点', '').replace('＋4点', '').rstrip() for result in result_big_list]\n",
    "print(sorted(list(set(result_big_list))))"
   ],
   "metadata": {
    "collapsed": false,
    "pycharm": {
     "name": "#%%\n"
    }
   }
  },
  {
   "cell_type": "code",
   "execution_count": 44,
   "outputs": [],
   "source": [
    "cur.execute('select dab.result_big, pd.pitcher_id, pd.c, pd.first, pd.second, pd.third, pd.ss, pd.lf, pd.cf, pd.rf, dab.out from pitch_data as pd join data_at_bat as dab on pd.id_at_bat = dab.id group by id_at_bat having number_pitch_at_bat = max(number_pitch_at_bat)')\n",
    "data = cur.fetchall()"
   ],
   "metadata": {
    "collapsed": false,
    "pycharm": {
     "name": "#%%\n"
    }
   }
  },
  {
   "cell_type": "code",
   "execution_count": 45,
   "outputs": [],
   "source": [
    "import pandas as pd\n",
    "\n",
    "df = pd.DataFrame(data, columns=['result', 'pitcher', 'c', 'first', 'second', 'third', 'ss', 'lf', 'cf', 'rf', 'out'])"
   ],
   "metadata": {
    "collapsed": false,
    "pycharm": {
     "name": "#%%\n"
    }
   }
  },
  {
   "cell_type": "code",
   "execution_count": 46,
   "outputs": [
    {
     "data": {
      "text/plain": "         result  pitcher        c    first   second    third       ss  \\\n0           投ゴロ  1200041  1700044  1500015  1700047  1400101   700003   \n1           三ゴロ  1200041  1700044  1500015  1700047  1400101   700003   \n2            四球  1200041  1700044  1500015  1700047  1400101   700003   \n3            四球  1600081  1300093  2000035  1700046  1200053  1500063   \n4       左安打 ＋1点  1600081  1300093  2000035  1700046  1200053  1500063   \n...         ...      ...      ...      ...      ...      ...      ...   \n64131  右本塁打 ＋1点  1600012   600026   600020   900056  1100103  1700034   \n64132     空振り三振  1600012   600026   600020   900056  1100103  1700034   \n64133        四球   700065   600026   600020   900056  1100103  1700034   \n64134       左安打   700065   600026   600020   900056  1100103  1700034   \n64135     空振り三振   700065   600026   600020   900056  1100103  1700034   \n\n            lf       cf       rf  out  \n0      1600070   800043   700027    1  \n1      1600070   800043   700027    1  \n2      1600070   800043   700027    0  \n3      1600089  1100061  1300038    0  \n4      1600089  1100061  1300038    0  \n...        ...      ...      ...  ...  \n64131  1600094  1800117  1100130    0  \n64132  1600094  1800117  1100130    1  \n64133  1800122  1100130  1800123    0  \n64134  1800122  1100130  1800123    0  \n64135  1800122  1100130  1800123    1  \n\n[64136 rows x 11 columns]",
      "text/html": "<div>\n<style scoped>\n    .dataframe tbody tr th:only-of-type {\n        vertical-align: middle;\n    }\n\n    .dataframe tbody tr th {\n        vertical-align: top;\n    }\n\n    .dataframe thead th {\n        text-align: right;\n    }\n</style>\n<table border=\"1\" class=\"dataframe\">\n  <thead>\n    <tr style=\"text-align: right;\">\n      <th></th>\n      <th>result</th>\n      <th>pitcher</th>\n      <th>c</th>\n      <th>first</th>\n      <th>second</th>\n      <th>third</th>\n      <th>ss</th>\n      <th>lf</th>\n      <th>cf</th>\n      <th>rf</th>\n      <th>out</th>\n    </tr>\n  </thead>\n  <tbody>\n    <tr>\n      <th>0</th>\n      <td>投ゴロ</td>\n      <td>1200041</td>\n      <td>1700044</td>\n      <td>1500015</td>\n      <td>1700047</td>\n      <td>1400101</td>\n      <td>700003</td>\n      <td>1600070</td>\n      <td>800043</td>\n      <td>700027</td>\n      <td>1</td>\n    </tr>\n    <tr>\n      <th>1</th>\n      <td>三ゴロ</td>\n      <td>1200041</td>\n      <td>1700044</td>\n      <td>1500015</td>\n      <td>1700047</td>\n      <td>1400101</td>\n      <td>700003</td>\n      <td>1600070</td>\n      <td>800043</td>\n      <td>700027</td>\n      <td>1</td>\n    </tr>\n    <tr>\n      <th>2</th>\n      <td>四球</td>\n      <td>1200041</td>\n      <td>1700044</td>\n      <td>1500015</td>\n      <td>1700047</td>\n      <td>1400101</td>\n      <td>700003</td>\n      <td>1600070</td>\n      <td>800043</td>\n      <td>700027</td>\n      <td>0</td>\n    </tr>\n    <tr>\n      <th>3</th>\n      <td>四球</td>\n      <td>1600081</td>\n      <td>1300093</td>\n      <td>2000035</td>\n      <td>1700046</td>\n      <td>1200053</td>\n      <td>1500063</td>\n      <td>1600089</td>\n      <td>1100061</td>\n      <td>1300038</td>\n      <td>0</td>\n    </tr>\n    <tr>\n      <th>4</th>\n      <td>左安打 ＋1点</td>\n      <td>1600081</td>\n      <td>1300093</td>\n      <td>2000035</td>\n      <td>1700046</td>\n      <td>1200053</td>\n      <td>1500063</td>\n      <td>1600089</td>\n      <td>1100061</td>\n      <td>1300038</td>\n      <td>0</td>\n    </tr>\n    <tr>\n      <th>...</th>\n      <td>...</td>\n      <td>...</td>\n      <td>...</td>\n      <td>...</td>\n      <td>...</td>\n      <td>...</td>\n      <td>...</td>\n      <td>...</td>\n      <td>...</td>\n      <td>...</td>\n      <td>...</td>\n    </tr>\n    <tr>\n      <th>64131</th>\n      <td>右本塁打 ＋1点</td>\n      <td>1600012</td>\n      <td>600026</td>\n      <td>600020</td>\n      <td>900056</td>\n      <td>1100103</td>\n      <td>1700034</td>\n      <td>1600094</td>\n      <td>1800117</td>\n      <td>1100130</td>\n      <td>0</td>\n    </tr>\n    <tr>\n      <th>64132</th>\n      <td>空振り三振</td>\n      <td>1600012</td>\n      <td>600026</td>\n      <td>600020</td>\n      <td>900056</td>\n      <td>1100103</td>\n      <td>1700034</td>\n      <td>1600094</td>\n      <td>1800117</td>\n      <td>1100130</td>\n      <td>1</td>\n    </tr>\n    <tr>\n      <th>64133</th>\n      <td>四球</td>\n      <td>700065</td>\n      <td>600026</td>\n      <td>600020</td>\n      <td>900056</td>\n      <td>1100103</td>\n      <td>1700034</td>\n      <td>1800122</td>\n      <td>1100130</td>\n      <td>1800123</td>\n      <td>0</td>\n    </tr>\n    <tr>\n      <th>64134</th>\n      <td>左安打</td>\n      <td>700065</td>\n      <td>600026</td>\n      <td>600020</td>\n      <td>900056</td>\n      <td>1100103</td>\n      <td>1700034</td>\n      <td>1800122</td>\n      <td>1100130</td>\n      <td>1800123</td>\n      <td>0</td>\n    </tr>\n    <tr>\n      <th>64135</th>\n      <td>空振り三振</td>\n      <td>700065</td>\n      <td>600026</td>\n      <td>600020</td>\n      <td>900056</td>\n      <td>1100103</td>\n      <td>1700034</td>\n      <td>1800122</td>\n      <td>1100130</td>\n      <td>1800123</td>\n      <td>1</td>\n    </tr>\n  </tbody>\n</table>\n<p>64136 rows × 11 columns</p>\n</div>"
     },
     "execution_count": 46,
     "metadata": {},
     "output_type": "execute_result"
    }
   ],
   "source": [
    "df"
   ],
   "metadata": {
    "collapsed": false,
    "pycharm": {
     "name": "#%%\n"
    }
   }
  },
  {
   "cell_type": "code",
   "execution_count": 47,
   "outputs": [],
   "source": [
    "rbi_strip = lambda x: x.replace('＋1点', '').replace('＋2点', '').replace('＋3点', '').replace('＋4点', '').rstrip()\n",
    "df['result'] = df['result'].map(rbi_strip)"
   ],
   "metadata": {
    "collapsed": false,
    "pycharm": {
     "name": "#%%\n"
    }
   }
  },
  {
   "cell_type": "code",
   "execution_count": 48,
   "outputs": [],
   "source": [
    "infield_df = df[df['result'].isin(['一2塁打', '一エラー', '一ゴロ', '一フライ', '一ライナー', '一併殺打', '一安打', '一犠打', '一犠打野選', '一野選', '遊2塁打', '遊エラー', '遊ゴロ', '遊フライ', '遊ライナー', '遊併殺打', '遊安打', '遊野選', '中2塁打', '中3塁打', '中エラー', '中ゴロ', '中フライ', '中ランニング本塁打', '中安打', '中犠飛', '二エラー', '二ゴロ', '二フライ', '二ライナー', '二併殺打', '二安打', '二犠打', '二野選', '右2塁打', '右3塁打', '右エラー', '右ゴロ', '右フライ', '右安打', '右犠飛', '左2塁打', '左3塁打', '左エラー', '左ゴロ', '左フライ', '左安打', '左犠飛', '投エラー', '投ゴロ', '投フライ', '投ライナー', '投併殺打', '投安打', '投犠打', '投犠打野選', '投野選', '捕エラー', '捕ゴロ', '捕フライ', '捕併殺打', '捕安打', '捕犠打', '捕犠打野選', '犠打失', '犠飛失', '遊2塁打', '遊エラー', '遊ゴロ', '遊フライ', '遊ライナー', '遊併殺打', '遊安打', '遊野選', '二エラー', '二ゴロ', '二フライ', '二ライナー', '二併殺打', '二安打', '二犠打', '二野選', '三2塁打', '三エラー', '三ゴロ', '三フライ', '三ライナー', '三併殺打', '三安打', '三犠打', '三犠打野選', '三野選'])]"
   ],
   "metadata": {
    "collapsed": false,
    "pycharm": {
     "name": "#%%\n"
    }
   }
  },
  {
   "cell_type": "code",
   "execution_count": 49,
   "outputs": [
    {
     "data": {
      "text/plain": "      result  pitcher        c    first   second    third       ss       lf  \\\n0        投ゴロ  1200041  1700044  1500015  1700047  1400101   700003  1600070   \n1        三ゴロ  1200041  1700044  1500015  1700047  1400101   700003  1600070   \n4        左安打  1600081  1300093  2000035  1700046  1200053  1500063  1600089   \n5       中2塁打  1600081  1300093  2000035  1700046  1200053  1500063  1600089   \n7        右安打  1600081  1300093  2000035  1700046  1200053  1500063  1600089   \n...      ...      ...      ...      ...      ...      ...      ...      ...   \n64126    右安打  1600164  1000176   800081  1600167  1700136  1000175  1400127   \n64127    遊ゴロ  1600164  1000176   800081  1600167  1700136  1000175  1400127   \n64128    右安打  1600164  1000176   800081  1600167  1700136  1000175  1400127   \n64130   遊フライ  1600012   600026   600020   900056  1100103  1700034  1600094   \n64134    左安打   700065   600026   600020   900056  1100103  1700034  1800122   \n\n            cf       rf  out  \n0       800043   700027    1  \n1       800043   700027    1  \n4      1100061  1300038    0  \n5      1100061  1300038    0  \n7      1100061  1300038    0  \n...        ...      ...  ...  \n64126  1900104  1000128    0  \n64127  1900104  1000128    1  \n64128  1900104  1000128    0  \n64130  1800117  1100130    1  \n64134  1100130  1800123    0  \n\n[41260 rows x 11 columns]",
      "text/html": "<div>\n<style scoped>\n    .dataframe tbody tr th:only-of-type {\n        vertical-align: middle;\n    }\n\n    .dataframe tbody tr th {\n        vertical-align: top;\n    }\n\n    .dataframe thead th {\n        text-align: right;\n    }\n</style>\n<table border=\"1\" class=\"dataframe\">\n  <thead>\n    <tr style=\"text-align: right;\">\n      <th></th>\n      <th>result</th>\n      <th>pitcher</th>\n      <th>c</th>\n      <th>first</th>\n      <th>second</th>\n      <th>third</th>\n      <th>ss</th>\n      <th>lf</th>\n      <th>cf</th>\n      <th>rf</th>\n      <th>out</th>\n    </tr>\n  </thead>\n  <tbody>\n    <tr>\n      <th>0</th>\n      <td>投ゴロ</td>\n      <td>1200041</td>\n      <td>1700044</td>\n      <td>1500015</td>\n      <td>1700047</td>\n      <td>1400101</td>\n      <td>700003</td>\n      <td>1600070</td>\n      <td>800043</td>\n      <td>700027</td>\n      <td>1</td>\n    </tr>\n    <tr>\n      <th>1</th>\n      <td>三ゴロ</td>\n      <td>1200041</td>\n      <td>1700044</td>\n      <td>1500015</td>\n      <td>1700047</td>\n      <td>1400101</td>\n      <td>700003</td>\n      <td>1600070</td>\n      <td>800043</td>\n      <td>700027</td>\n      <td>1</td>\n    </tr>\n    <tr>\n      <th>4</th>\n      <td>左安打</td>\n      <td>1600081</td>\n      <td>1300093</td>\n      <td>2000035</td>\n      <td>1700046</td>\n      <td>1200053</td>\n      <td>1500063</td>\n      <td>1600089</td>\n      <td>1100061</td>\n      <td>1300038</td>\n      <td>0</td>\n    </tr>\n    <tr>\n      <th>5</th>\n      <td>中2塁打</td>\n      <td>1600081</td>\n      <td>1300093</td>\n      <td>2000035</td>\n      <td>1700046</td>\n      <td>1200053</td>\n      <td>1500063</td>\n      <td>1600089</td>\n      <td>1100061</td>\n      <td>1300038</td>\n      <td>0</td>\n    </tr>\n    <tr>\n      <th>7</th>\n      <td>右安打</td>\n      <td>1600081</td>\n      <td>1300093</td>\n      <td>2000035</td>\n      <td>1700046</td>\n      <td>1200053</td>\n      <td>1500063</td>\n      <td>1600089</td>\n      <td>1100061</td>\n      <td>1300038</td>\n      <td>0</td>\n    </tr>\n    <tr>\n      <th>...</th>\n      <td>...</td>\n      <td>...</td>\n      <td>...</td>\n      <td>...</td>\n      <td>...</td>\n      <td>...</td>\n      <td>...</td>\n      <td>...</td>\n      <td>...</td>\n      <td>...</td>\n      <td>...</td>\n    </tr>\n    <tr>\n      <th>64126</th>\n      <td>右安打</td>\n      <td>1600164</td>\n      <td>1000176</td>\n      <td>800081</td>\n      <td>1600167</td>\n      <td>1700136</td>\n      <td>1000175</td>\n      <td>1400127</td>\n      <td>1900104</td>\n      <td>1000128</td>\n      <td>0</td>\n    </tr>\n    <tr>\n      <th>64127</th>\n      <td>遊ゴロ</td>\n      <td>1600164</td>\n      <td>1000176</td>\n      <td>800081</td>\n      <td>1600167</td>\n      <td>1700136</td>\n      <td>1000175</td>\n      <td>1400127</td>\n      <td>1900104</td>\n      <td>1000128</td>\n      <td>1</td>\n    </tr>\n    <tr>\n      <th>64128</th>\n      <td>右安打</td>\n      <td>1600164</td>\n      <td>1000176</td>\n      <td>800081</td>\n      <td>1600167</td>\n      <td>1700136</td>\n      <td>1000175</td>\n      <td>1400127</td>\n      <td>1900104</td>\n      <td>1000128</td>\n      <td>0</td>\n    </tr>\n    <tr>\n      <th>64130</th>\n      <td>遊フライ</td>\n      <td>1600012</td>\n      <td>600026</td>\n      <td>600020</td>\n      <td>900056</td>\n      <td>1100103</td>\n      <td>1700034</td>\n      <td>1600094</td>\n      <td>1800117</td>\n      <td>1100130</td>\n      <td>1</td>\n    </tr>\n    <tr>\n      <th>64134</th>\n      <td>左安打</td>\n      <td>700065</td>\n      <td>600026</td>\n      <td>600020</td>\n      <td>900056</td>\n      <td>1100103</td>\n      <td>1700034</td>\n      <td>1800122</td>\n      <td>1100130</td>\n      <td>1800123</td>\n      <td>0</td>\n    </tr>\n  </tbody>\n</table>\n<p>41260 rows × 11 columns</p>\n</div>"
     },
     "execution_count": 49,
     "metadata": {},
     "output_type": "execute_result"
    }
   ],
   "source": [
    "infield_df"
   ],
   "metadata": {
    "collapsed": false,
    "pycharm": {
     "name": "#%%\n"
    }
   }
  },
  {
   "cell_type": "code",
   "execution_count": null,
   "outputs": [],
   "source": [
    "tmp_dict = {}\n",
    "for index, row in infield_df.iterrows():\n",
    "    tmp_list = []\n",
    "\n",
    "    # 責任が投手のみ\n",
    "    if row['result'] in ['hoge']:\n",
    "        tmp_dict.setdefault([row['pitcher'],], [])\n",
    "        tmp_list.append(row['out'])"
   ],
   "metadata": {
    "collapsed": false,
    "pycharm": {
     "name": "#%%\n"
    }
   }
  }
 ],
 "metadata": {
  "kernelspec": {
   "display_name": "Python 3",
   "language": "python",
   "name": "python3"
  },
  "language_info": {
   "codemirror_mode": {
    "name": "ipython",
    "version": 2
   },
   "file_extension": ".py",
   "mimetype": "text/x-python",
   "name": "python",
   "nbconvert_exporter": "python",
   "pygments_lexer": "ipython2",
   "version": "2.7.6"
  }
 },
 "nbformat": 4,
 "nbformat_minor": 0
}